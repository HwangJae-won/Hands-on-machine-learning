{
  "nbformat": 4,
  "nbformat_minor": 0,
  "metadata": {
    "kernelspec": {
      "display_name": "Python 3",
      "language": "python",
      "name": "python3"
    },
    "language_info": {
      "codemirror_mode": {
        "name": "ipython",
        "version": 3
      },
      "file_extension": ".py",
      "mimetype": "text/x-python",
      "name": "python",
      "nbconvert_exporter": "python",
      "pygments_lexer": "ipython3",
      "version": "3.6.5"
    },
    "nav_menu": {},
    "toc": {
      "navigate_menu": true,
      "number_sections": true,
      "sideBar": true,
      "threshold": 6,
      "toc_cell": false,
      "toc_section_display": "block",
      "toc_window_display": true
    },
    "toc_position": {
      "height": "616px",
      "left": "0px",
      "right": "20px",
      "top": "106px",
      "width": "213px"
    },
    "colab": {
      "name": "01_the_machine_learning_landscape.ipynb",
      "provenance": []
    }
  },
  "cells": [
    {
      "cell_type": "markdown",
      "metadata": {
        "id": "Pe3jrwhTGM5v"
      },
      "source": [
        "## Chapter 1. The Machine Learning landscape\n",
        "머신러닝에 대한 개요 및 소개\n"
      ]
    },
    {
      "cell_type": "markdown",
      "metadata": {
        "id": "wIXHqO1oGrSy"
      },
      "source": [
        "`Basic concept of Machine learning` <br>\n",
        "\n",
        "개념 설명\n",
        "https://jaewon-data-visualization.tistory.com/13"
      ]
    }
  ]
}